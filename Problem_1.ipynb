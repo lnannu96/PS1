{
 "cells": [
  {
   "cell_type": "code",
   "execution_count": 1,
   "metadata": {},
   "outputs": [
    {
     "name": "stdout",
     "output_type": "stream",
     "text": [
      "Populating the interactive namespace from numpy and matplotlib\n"
     ]
    }
   ],
   "source": [
    "%pylab inline \n",
    "%matplotlib inline"
   ]
  },
  {
   "cell_type": "markdown",
   "metadata": {},
   "source": [
    "If one wanted to solve a quadratic of the form $ax^2 +bx + c$, we would turn to our old tried and trusted friend, the quadratic formula, giving the roots to be $$x_1 = \\frac{-b + \\sqrt{b^2 -4ac}}{2a}, \\quad x_2 = \\frac{-b - \\sqrt{b^2 -4ac}}{2a}.$$"
   ]
  },
  {
   "cell_type": "markdown",
   "metadata": {},
   "source": [
    "However, the nature of life is such that this approach does not always work when using a computer, as we will see below."
   ]
  },
  {
   "cell_type": "code",
   "execution_count": 6,
   "metadata": {},
   "outputs": [],
   "source": [
    "def quadraticformula(a,b,c):\n",
    "    '''\n",
    "    computes roots x1 and x2 from a, b, and c using\n",
    "    the classical quadratic formula\n",
    "    '''\n",
    "    #discriminant\n",
    "    disc = np.sqrt(b**2 - 4.0*a*c)\n",
    "    \n",
    "    #solutions can be split into three classes:\n",
    "    #complex conjugate pairs\n",
    "    #double roots\n",
    "    #two distinct real roots\n",
    "\n",
    "    if(disc<0):\n",
    "        print(\"No real solutions.\")\n",
    "        return complex(-b/2.*a,sqrt(-disc)/2.*a),complex(-b/2.*a,-sqrt(-disc)/2.*a)\n",
    "    \n",
    "    elif(disc==0):\n",
    "        print(\"One root of multiplicity 2.\")\n",
    "        x = -b/(2.*a)\n",
    "        return x,x\n",
    "    \n",
    "    else:\n",
    "        print(\"Two distinct roots.\")\n",
    "        x1 = (-b + disc) / (2.*a)\n",
    "        x2 = (-b - disc) / (2.*a)\n",
    "        return x1, x2"
   ]
  },
  {
   "cell_type": "markdown",
   "metadata": {},
   "source": [
    "We now test the above implementation, and show how (and why) it can break.\n",
    "\n",
    "Note: it is assumed that the coefficients of the quadratic are real"
   ]
  },
  {
   "cell_type": "markdown",
   "metadata": {},
   "source": [
    "We start with a quadratic whose roots are nice numbers - the golden ratio $\\phi = \\frac{1 + \\sqrt{5}}{2}$ and its conjugate $\\frac{-1}{\\phi} = \\frac{1 - \\sqrt{5}}{2}$."
   ]
  },
  {
   "cell_type": "code",
   "execution_count": 11,
   "metadata": {},
   "outputs": [
    {
     "name": "stdout",
     "output_type": "stream",
     "text": [
      "Two distinct roots.\n",
      "Roots: 1.618033988749895 -0.6180339887498949\n",
      "Errors in roots: 0.0 0.0\n"
     ]
    }
   ],
   "source": [
    "a=1.0\n",
    "b=-1.0\n",
    "c=-1.0\n",
    "x1,x2 = quadraticformula(a,b,c)\n",
    "print(\"Roots:\",x1,x2)\n",
    "print(\"Errors in roots:\",abs(a*x1*x1 + b*x1 +c),abs(a*x2*x2 + b*x2 +c))"
   ]
  },
  {
   "cell_type": "markdown",
   "metadata": {},
   "source": [
    "### Write more test cases for this, and show when it breaks\n",
    "a = 1.0 b = -1e8 c = 1.0 is an example of when cancellation error will creep in"
   ]
  },
  {
   "cell_type": "markdown",
   "metadata": {},
   "source": [
    "From the quadratic formula, if we multiply throughout by the \"conjugate\" of the radical expression in the numerator, we can see that the roots of the given quadratic can be given by: $$x_1 = \\frac{2c}{-b + \\sqrt{b^2 -4ac}}, \\quad x_2 = \\frac{2c}{-b - \\sqrt{b^2 -4ac}}.$$"
   ]
  },
  {
   "cell_type": "markdown",
   "metadata": {},
   "source": [
    "The formula above is useful when we want to avoid cancelation errors."
   ]
  },
  {
   "cell_type": "markdown",
   "metadata": {},
   "source": [
    "The final function quadratic roots performs the above operations and analyzes which formula to use"
   ]
  },
  {
   "cell_type": "code",
   "execution_count": 23,
   "metadata": {},
   "outputs": [],
   "source": [
    "def quadratic_roots(a,b,c):\n",
    "    '''\n",
    "    Computes the two roots x1 and x2 of the quadratic equation a*x^2 + b*x + c = 0.\n",
    "    This code will address the problem of cancellation and overflow errors.\n",
    "    '''\n",
    "\n",
    "    # easiest way to handle overflow errors is to scale the numbers to lie between 0 and 1\n",
    "    if a==0 and b==0 and c==0:\n",
    "        print(\"Infinitely many solutions - trivial equation 0 = 0.\")\n",
    "        return (\"N/A\",\"N/A\")\n",
    "    \n",
    "    m = max(a,b,c)\n",
    "    a /= m\n",
    "    b /= m\n",
    "    c /= m\n",
    "\n",
    "    # dealing with various input classes\n",
    "    if a == 0: # equation becomes bx + c = 0\n",
    "        if b == 0: # equation becomes c = 0\n",
    "            print(\"Equation has no solutions\")\n",
    "            return (\"NaN\",\"NaN\")\n",
    "        else: # equation is bx+c = 0\n",
    "            print(\"The equation is linear and only has one solution\")\n",
    "            return (- c/b,-c/b)\n",
    "    elif c == 0: # Equation becomes ax^2 + bx = 0\n",
    "        print(\"The equation has two solutions.\")\n",
    "        x1 = 0\n",
    "        x2 = -b/a \n",
    "        return (x1,x2)\n",
    "    else: # ax^2+bx+c=0\n",
    "        print(\"The equation has two solutions.\")\n",
    "        disc = sqrt(b**2.0 - 4.0*a*c)\n",
    "        x1 = (-b - np.sign(b)*disc)/(2.0*a) #the sign function helps takes care of potential cancellation error\n",
    "        x2 = (c)/(a*x1)\n",
    "        return (x1,x2)"
   ]
  },
  {
   "cell_type": "code",
   "execution_count": 22,
   "metadata": {},
   "outputs": [
    {
     "name": "stdout",
     "output_type": "stream",
     "text": [
      "Infinitely many solutions - trivial equation 0 = 0.\n"
     ]
    }
   ],
   "source": [
    "x1,x2 = quadratic_roots(0.0,0.0,0.0)"
   ]
  },
  {
   "cell_type": "code",
   "execution_count": null,
   "metadata": {},
   "outputs": [],
   "source": []
  }
 ],
 "metadata": {
  "kernelspec": {
   "display_name": "Python 3",
   "language": "python",
   "name": "python3"
  },
  "language_info": {
   "codemirror_mode": {
    "name": "ipython",
    "version": 3
   },
   "file_extension": ".py",
   "mimetype": "text/x-python",
   "name": "python",
   "nbconvert_exporter": "python",
   "pygments_lexer": "ipython3",
   "version": "3.7.1"
  }
 },
 "nbformat": 4,
 "nbformat_minor": 2
}
