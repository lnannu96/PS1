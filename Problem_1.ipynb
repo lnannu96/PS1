{
 "cells": [
  {
   "cell_type": "markdown",
   "metadata": {},
   "source": [
    "# Problem 1"
   ]
  },
  {
   "cell_type": "code",
   "execution_count": 1,
   "metadata": {},
   "outputs": [
    {
     "name": "stdout",
     "output_type": "stream",
     "text": [
      "Populating the interactive namespace from numpy and matplotlib\n"
     ]
    }
   ],
   "source": [
    "%pylab inline \n",
    "%matplotlib inline\n",
    "import random"
   ]
  },
  {
   "cell_type": "markdown",
   "metadata": {},
   "source": [
    "If one wanted to solve a quadratic of the form $ax^2 +bx + c$, we would turn to our old tried and trusted friend, the quadratic formula, giving the roots to be $$x_1 = \\frac{-b + \\sqrt{b^2 -4ac}}{2a}, \\quad x_2 = \\frac{-b - \\sqrt{b^2 -4ac}}{2a}.$$"
   ]
  },
  {
   "cell_type": "markdown",
   "metadata": {},
   "source": [
    "However, the nature of life is such that this approach does not always work when using a computer, as we will see below."
   ]
  },
  {
   "cell_type": "code",
   "execution_count": 2,
   "metadata": {},
   "outputs": [],
   "source": [
    "def quadraticformula(a,b,c):\n",
    "    '''\n",
    "    computes roots x1 and x2 from a, b, and c using\n",
    "    the classical quadratic formula\n",
    "    '''\n",
    "    #discriminant\n",
    "    disc = (b**2 - 4.0*a*c)\n",
    "    \n",
    "    #solutions can be split into three classes:\n",
    "    #complex conjugate pairs\n",
    "    #double roots\n",
    "    #two distinct real roots\n",
    "\n",
    "    if(disc<0):\n",
    "        print(\"No real solutions.\")\n",
    "        return complex(-b/(2.*a),sqrt(-disc)/(2.*a)),complex(-b/(2.*a),-sqrt(-disc)/(2.*a))\n",
    "    \n",
    "    elif(disc==0):\n",
    "        print(\"One root of multiplicity 2.\")\n",
    "        x = -b/(2.*a)\n",
    "        return x,x\n",
    "    \n",
    "    else:\n",
    "        print(\"Two distinct roots.\")\n",
    "        x1 = (-b + np.sqrt(disc)) / (2.*a)\n",
    "        x2 = (-b - np.sqrt(disc)) / (2.*a)\n",
    "        return x1,x2"
   ]
  },
  {
   "cell_type": "markdown",
   "metadata": {},
   "source": [
    "We now test the above implementation, and show how (and why) it can break.\n",
    "\n",
    "Note: it is assumed that the coefficients of the quadratic are real"
   ]
  },
  {
   "cell_type": "markdown",
   "metadata": {},
   "source": [
    "We start with a quadratic whose roots are nice numbers - the golden ratio $\\phi = \\frac{1 + \\sqrt{5}}{2}$ and its conjugate $\\frac{-1}{\\phi} = \\frac{1 - \\sqrt{5}}{2}$."
   ]
  },
  {
   "cell_type": "code",
   "execution_count": 3,
   "metadata": {},
   "outputs": [
    {
     "name": "stdout",
     "output_type": "stream",
     "text": [
      "Two distinct roots.\n",
      "Roots: 1.618033988749895 -0.6180339887498949\n",
      "Errors in roots: 0.0 0.0\n"
     ]
    }
   ],
   "source": [
    "a=1.0\n",
    "b=-1.0\n",
    "c=-1.0\n",
    "X1,X2 = quadraticformula(a,b,c)\n",
    "print(\"Roots:\",X1,X2)\n",
    "print(\"Errors in roots:\",abs(a*X1*X1 + b*X1 +c),abs(a*X2*X2 + b*X2 +c))"
   ]
  },
  {
   "cell_type": "markdown",
   "metadata": {},
   "source": [
    "### Write more test cases for this, and show when it breaks\n",
    "a = 1.0 b = -1e8 c = 1.0 is an example of when cancellation error will creep in"
   ]
  },
  {
   "cell_type": "code",
   "execution_count": 4,
   "metadata": {},
   "outputs": [],
   "source": [
    "def test():\n",
    "    a = random.random()\n",
    "    b = random.random()\n",
    "    c = random.random()\n",
    "    d = random.random()\n",
    "    e = random.random()\n",
    "    f = random.random()\n",
    "    g = random.random()\n",
    "    h = random.random()\n",
    "    i = random.random()\n",
    "    x1,x2 = quadraticformula(a,b,c)\n",
    "    x3,x4 = quadraticformula(d,e,f)\n",
    "    x5,x6 = quadraticformula(g,h,i)\n",
    "    atol = 1.0e-10\n",
    "    if (abs(a*x1*x1 + b*x1 +c)<=atol) and (abs(a*x2*x2 + b*x2 +c)<=atol):\n",
    "        print(\"Test 1 Passed\")\n",
    "        t1 = 1\n",
    "    else:\n",
    "        print(\"Test 1 Failed\")\n",
    "        t1 = 0\n",
    "    if (abs(d*x3*x3 + e*x3 +f)<=atol) and (abs(d*x4*x4 + e*x4 +f)<=atol):\n",
    "        print(\"Test 2 Passed\")\n",
    "        t2 = 1\n",
    "    else:\n",
    "        print(\"Test 2 Failed\")\n",
    "        t2 = 0\n",
    "    if (abs(g*x5*x5 + h*x5 +i)<=atol) and (abs(g*x6*x6 + h*x6 +i)<=atol):\n",
    "        print(\"Test 3 Passed\")\n",
    "        t3 = 1\n",
    "    else:\n",
    "        print(\"Test 3 Failed\")\n",
    "        t3 = 0\n",
    "    \n",
    "    if t1*t2*t3:\n",
    "        print(\"Pass\")\n",
    "    else:\n",
    "        print(\"Fail\")\n",
    "    return"
   ]
  },
  {
   "cell_type": "code",
   "execution_count": 5,
   "metadata": {},
   "outputs": [
    {
     "name": "stdout",
     "output_type": "stream",
     "text": [
      "Two distinct roots.\n",
      "No real solutions.\n",
      "Two distinct roots.\n",
      "Test 1 Passed\n",
      "Test 2 Passed\n",
      "Test 3 Passed\n",
      "Pass\n"
     ]
    }
   ],
   "source": [
    "test()"
   ]
  },
  {
   "cell_type": "code",
   "execution_count": 6,
   "metadata": {},
   "outputs": [
    {
     "name": "stdout",
     "output_type": "stream",
     "text": [
      "No real solutions.\n",
      "No real solutions.\n",
      "No real solutions.\n",
      "Test 1 Passed\n",
      "Test 2 Passed\n",
      "Test 3 Passed\n",
      "Pass\n"
     ]
    }
   ],
   "source": [
    "test()"
   ]
  },
  {
   "cell_type": "code",
   "execution_count": 7,
   "metadata": {},
   "outputs": [
    {
     "name": "stdout",
     "output_type": "stream",
     "text": [
      "No real solutions.\n",
      "Two distinct roots.\n",
      "No real solutions.\n",
      "Test 1 Passed\n",
      "Test 2 Passed\n",
      "Test 3 Passed\n",
      "Pass\n"
     ]
    }
   ],
   "source": [
    "test()"
   ]
  },
  {
   "cell_type": "markdown",
   "metadata": {},
   "source": [
    "So far this looks good. But let's see how this implementation can break."
   ]
  },
  {
   "cell_type": "code",
   "execution_count": 8,
   "metadata": {},
   "outputs": [
    {
     "name": "stdout",
     "output_type": "stream",
     "text": [
      "Two distinct roots.\n",
      "Roots: 100000000.0 7.450580596923828e-09\n",
      "Errors in roots: 1.4901161193847656e-08 2.5494194030761737e-09\n"
     ]
    }
   ],
   "source": [
    "a = 1.0\n",
    "b = -1.0e8\n",
    "c = 1.0\n",
    "X1,X2 = quadraticformula(a,b,c)\n",
    "print(\"Roots:\",X1,X2)\n",
    "refs = np.roots([a,b,c]) #comparing with reference solutions\n",
    "print(\"Errors in roots:\",abs(X1-refs[0]),abs(X2-refs[1]))"
   ]
  },
  {
   "cell_type": "markdown",
   "metadata": {},
   "source": [
    "This doesn't look that great anymore. We can definitely do much better. What happened? We are running into cancellation error due to the term $b$ dominating the discriminant. Let's look for a work around."
   ]
  },
  {
   "cell_type": "markdown",
   "metadata": {},
   "source": [
    "### From the quadratic formula, if we multiply throughout by the \"conjugate\" of the radical expression in the numerator, we can see that the roots of the given quadratic can be given by: \n",
    "\n",
    "$$x_1 = \\frac{2c}{-b + \\sqrt{b^2 -4ac}}, \\quad x_2 = \\frac{2c}{-b - \\sqrt{b^2 -4ac}}.$$"
   ]
  },
  {
   "cell_type": "markdown",
   "metadata": {},
   "source": [
    "The formula above is useful when we want to avoid cancelation errors."
   ]
  },
  {
   "cell_type": "code",
   "execution_count": 9,
   "metadata": {},
   "outputs": [],
   "source": [
    "def quadratic_alternative(a,b,c):\n",
    "    '''\n",
    "    computes roots x1 and x2 from a, b, and c using the alternative forms for the roots\n",
    "    these expressions come from a sort of inverse rationalization process\n",
    "    '''\n",
    "    disc = (b**2 - 4.*a*c)\n",
    "    if(disc<0):\n",
    "        print(\"No real solutions.\")\n",
    "        return\n",
    "    elif(disc==0):\n",
    "        print(\"One root of multiplicity 2.\")\n",
    "        x = -(2*c)/b\n",
    "        return x,x\n",
    "    else:\n",
    "        print(\"Two distinct roots.\")\n",
    "        x1 = 2*c / (-b - np.sqrt(disc))\n",
    "        x2 = 2*c / (-b + np.sqrt(disc))\n",
    "        return x1, x2"
   ]
  },
  {
   "cell_type": "code",
   "execution_count": 10,
   "metadata": {},
   "outputs": [
    {
     "name": "stdout",
     "output_type": "stream",
     "text": [
      "Two distinct roots.\n",
      "Roots: 134217728.0 1e-08\n",
      "Errors in roots: 34217728.000000015 1.6543612251060553e-24\n"
     ]
    }
   ],
   "source": [
    "a = 1.0\n",
    "b = -1.0e8\n",
    "c = 1.0\n",
    "X1,X2 = quadratic_alternative(a,b,c)\n",
    "print(\"Roots:\",X1,X2)\n",
    "refs = np.roots([a,b,c]) #comparing with reference solutions\n",
    "print(\"Errors in roots:\",abs(X1-refs[0]),abs(X2-refs[1]))"
   ]
  },
  {
   "cell_type": "markdown",
   "metadata": {},
   "source": [
    "So we see that our alternative implementation now gives us a much better error handle for one of the roots, but fails miserably for the other. We seek a solution that will do a balancing act and give us the best of both worlds, or rather, formulas."
   ]
  },
  {
   "cell_type": "markdown",
   "metadata": {},
   "source": [
    "## Final Function\n",
    "The final function quadratic roots performs the above operations and analyzes which formula to use"
   ]
  },
  {
   "cell_type": "code",
   "execution_count": 11,
   "metadata": {},
   "outputs": [],
   "source": [
    "def quadratic_roots(a,b,c):\n",
    "    '''\n",
    "    Computes the two roots x1 and x2 of the quadratic equation a*x^2 + b*x + c = 0.\n",
    "    This code will address the problem of cancellation and overflow errors.\n",
    "    '''\n",
    "\n",
    "    if a==0 and b==0 and c==0:\n",
    "        print(\"Infinitely many solutions - trivial equation 0 = 0.\")\n",
    "        return (\"N/A\",\"N/A\")\n",
    "    \n",
    "    # easiest way to handle errors due to large coefficients to scale the numbers to lie between 0 and 1\n",
    "    m = max(abs(a),abs(b),abs(c))\n",
    "    a /= m\n",
    "    b /= m\n",
    "    c /= m\n",
    "\n",
    "    # dealing with various input classes\n",
    "    if a == 0: # equation becomes bx + c = 0\n",
    "        if b == 0: # equation becomes c = 0\n",
    "            print(\"Equation has no solutions\")\n",
    "            return (\"NaN\",\"NaN\")\n",
    "        else: # equation is bx+c = 0\n",
    "            print(\"The equation is linear and only has one solution\")\n",
    "            return (- c/b,-c/b)\n",
    "    elif c == 0: # Equation becomes ax^2 + bx = 0\n",
    "        print(\"The equation has two solutions.\")\n",
    "        x1 = 0\n",
    "        x2 = -b/a \n",
    "        return (x1,x2)\n",
    "    else: # ax^2+bx+c=0\n",
    "        print(\"The equation has two solutions.\")\n",
    "        disc = sqrt(b**2.0 - 4.0*a*c)\n",
    "        if(disc<0):\n",
    "            print(\"No real solutions.\")\n",
    "            return complex(-b/2.*a,sqrt(-disc)/2.*a),complex(-b/2.*a,-sqrt(-disc)/2.*a)\n",
    "    \n",
    "        elif(disc==0):\n",
    "            print(\"One root of multiplicity 2.\")\n",
    "            x = -b/(2.*a)\n",
    "            return (x,x)\n",
    "        else:\n",
    "            x1 = (-b - np.sign(b)*disc)/(2.0*a) #the sign function helps takes care of potential cancellation error\n",
    "            x2 = (c)/(a*x1)\n",
    "            return (x1,x2)"
   ]
  },
  {
   "cell_type": "code",
   "execution_count": 12,
   "metadata": {},
   "outputs": [
    {
     "name": "stdout",
     "output_type": "stream",
     "text": [
      "Infinitely many solutions - trivial equation 0 = 0.\n"
     ]
    }
   ],
   "source": [
    "x1,x2 = quadratic_roots(0.0,0.0,0.0)"
   ]
  },
  {
   "cell_type": "code",
   "execution_count": 13,
   "metadata": {},
   "outputs": [
    {
     "name": "stdout",
     "output_type": "stream",
     "text": [
      "The equation has two solutions.\n",
      "Roots: 99999999.99999999 1.0000000000000002e-08\n",
      "Errors in roots: 0.0 0.0\n"
     ]
    }
   ],
   "source": [
    "a = 1.0\n",
    "b = -1.0e8\n",
    "c = 1.0\n",
    "X1,X2 = quadratic_roots(a,b,c)\n",
    "print(\"Roots:\",X1,X2)\n",
    "refs = np.roots([a,b,c]) #comparing with reference solutions\n",
    "print(\"Errors in roots:\",abs(X1-refs[0]),abs(X2-refs[1]))"
   ]
  },
  {
   "cell_type": "code",
   "execution_count": 14,
   "metadata": {},
   "outputs": [
    {
     "name": "stdout",
     "output_type": "stream",
     "text": [
      "The equation has two solutions.\n",
      "Roots: -99999.99999 -1.0000000001e-05\n",
      "Errors in roots: 0.0 1.6940658945086007e-21\n"
     ]
    }
   ],
   "source": [
    "a = 1.0\n",
    "b = 1e5\n",
    "c = 1.0\n",
    "X1,X2 = quadratic_roots(a,b,c)\n",
    "print(\"Roots:\",X1,X2)\n",
    "refs = np.roots([a,b,c]) #comparing with reference solutions\n",
    "print(\"Errors in roots:\",abs(X1-refs[0]),abs(X2-refs[1]))"
   ]
  },
  {
   "cell_type": "code",
   "execution_count": 15,
   "metadata": {},
   "outputs": [
    {
     "name": "stdout",
     "output_type": "stream",
     "text": [
      "The equation has two solutions.\n",
      "Roots: -1.3333333333333333 0.5\n",
      "Errors in roots: 0.0 0.0\n"
     ]
    }
   ],
   "source": [
    "a = 6e154\n",
    "b = 5e154\n",
    "c = -4e154\n",
    "X1,X2 = quadratic_roots(a,b,c)\n",
    "print(\"Roots:\",X1,X2)\n",
    "refs = np.roots([a,b,c]) #comparing with reference solutions\n",
    "print(\"Errors in roots:\",abs(X1-refs[0]),abs(X2-refs[1]))"
   ]
  },
  {
   "cell_type": "markdown",
   "metadata": {},
   "source": [
    "The above equation should give us the same roots as $(a,b,c) = (6,5,-4)$, lets check."
   ]
  },
  {
   "cell_type": "code",
   "execution_count": 16,
   "metadata": {},
   "outputs": [
    {
     "name": "stdout",
     "output_type": "stream",
     "text": [
      "The equation has two solutions.\n",
      "Roots: -1.3333333333333333 0.5\n",
      "Errors in roots: 0.0 0.0\n"
     ]
    }
   ],
   "source": [
    "a = 6\n",
    "b = 5\n",
    "c = -4\n",
    "X1,X2 = quadratic_roots(a,b,c)\n",
    "print(\"Roots:\",X1,X2)\n",
    "refs = np.roots([a,b,c]) #comparing with reference solutions\n",
    "print(\"Errors in roots:\",abs(X1-refs[0]),abs(X2-refs[1]))"
   ]
  },
  {
   "cell_type": "markdown",
   "metadata": {},
   "source": [
    "### This function works well, and is giving us results on par with python's (numpy's) root-finding routine. "
   ]
  },
  {
   "cell_type": "code",
   "execution_count": null,
   "metadata": {},
   "outputs": [],
   "source": []
  }
 ],
 "metadata": {
  "kernelspec": {
   "display_name": "Python 3",
   "language": "python",
   "name": "python3"
  },
  "language_info": {
   "codemirror_mode": {
    "name": "ipython",
    "version": 3
   },
   "file_extension": ".py",
   "mimetype": "text/x-python",
   "name": "python",
   "nbconvert_exporter": "python",
   "pygments_lexer": "ipython3",
   "version": "3.7.1"
  }
 },
 "nbformat": 4,
 "nbformat_minor": 2
}
