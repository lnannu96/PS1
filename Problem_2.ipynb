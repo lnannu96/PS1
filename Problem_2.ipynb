{
 "cells": [
  {
   "cell_type": "markdown",
   "metadata": {},
   "source": [
    "# Problem 2"
   ]
  },
  {
   "cell_type": "markdown",
   "metadata": {},
   "source": [
    "### Second order method\n",
    "\n",
    "Consider the following Taylor Expansions:\n",
    "$$ f(x+h) = f(x) + hf'(x) + \\frac{h^2}{2}f''(x) + O(h^3)$$\n",
    "\n",
    "$$ f(x-h) = f(x) - hf'(x) + \\frac{h^2}{2}f''(x) + O(h^3)$$\n",
    "\n",
    "From this, we obtain the following:\n",
    "\n",
    "$$ \\frac{f(x+h)-f(x-h)}{2h} = f'(x) + O(h^2) $$\n",
    "\n",
    "So we conclude that the *central difference* $\\frac{f(x+h)-f(x-h)}{2h}$ gives a higher order approximation than either the forward or backward difference.\n",
    "\n",
    "In this method, if we take $h$ to be of the order $h \\sim \\sqrt[3]{\\frac{6\\epsilon}{f'''}}$ then the truncation and round-off errors balance. In this case, then we don't see the desired change in the errors as we scale $h$ in this order. This is shown below by choosing $h = \\epsilon^{1/3}$ and then $h = 2\\epsilon^{1/3}$"
   ]
  },
  {
   "cell_type": "code",
   "execution_count": 1,
   "metadata": {},
   "outputs": [
    {
     "name": "stdout",
     "output_type": "stream",
     "text": [
      "Populating the interactive namespace from numpy and matplotlib\n"
     ]
    }
   ],
   "source": [
    "import numpy as np\n",
    "%pylab inline"
   ]
  },
  {
   "cell_type": "code",
   "execution_count": 2,
   "metadata": {},
   "outputs": [],
   "source": [
    "def central_difference(f,x):\n",
    "    xs = np.array(x)\n",
    "    h = np.cbrt(np.finfo(type(x[0])).eps)\n",
    "    df = f(x+h)-f(x-h)\n",
    "    return (df/(2.0*h))"
   ]
  },
  {
   "cell_type": "code",
   "execution_count": 3,
   "metadata": {},
   "outputs": [],
   "source": [
    "def central_difference1(f,x):\n",
    "    xs = np.array(x)\n",
    "    h = np.cbrt(np.finfo(type(x[0])).eps)*2.0\n",
    "    df = f(x+h)-f(x-h)\n",
    "    return (df/(2.0*h))"
   ]
  },
  {
   "cell_type": "code",
   "execution_count": 4,
   "metadata": {},
   "outputs": [
    {
     "data": {
      "text/plain": [
       "array([5.03619368e-12])"
      ]
     },
     "execution_count": 4,
     "metadata": {},
     "output_type": "execute_result"
    }
   ],
   "source": [
    "np.abs(cos(1.0)-central_difference(sin,[1.0]))"
   ]
  },
  {
   "cell_type": "code",
   "execution_count": 5,
   "metadata": {},
   "outputs": [
    {
     "data": {
      "text/plain": [
       "array([1.42034162e-11])"
      ]
     },
     "execution_count": 5,
     "metadata": {},
     "output_type": "execute_result"
    }
   ],
   "source": [
    "np.abs(cos(1.0)-central_difference1(sin,[1.0]))"
   ]
  },
  {
   "cell_type": "markdown",
   "metadata": {},
   "source": [
    "As we see above, this does not give us the desired $h^2$ scaling. The regime we have taken for $h$ was too small so we now work with higher orders of magnitude."
   ]
  },
  {
   "cell_type": "code",
   "execution_count": 6,
   "metadata": {},
   "outputs": [
    {
     "data": {
      "text/plain": [
       "6.0554544523933395e-06"
      ]
     },
     "execution_count": 6,
     "metadata": {},
     "output_type": "execute_result"
    }
   ],
   "source": [
    "np.cbrt(np.finfo(type(1.0)).eps)"
   ]
  },
  {
   "cell_type": "markdown",
   "metadata": {},
   "source": [
    "We will take $h \\sim 10^{-5}$ and higher."
   ]
  },
  {
   "cell_type": "code",
   "execution_count": 7,
   "metadata": {},
   "outputs": [],
   "source": [
    "def centralized_difference(f,x,h):\n",
    "    xs = np.array(x)\n",
    "    df = f(x+h)-f(x-h)\n",
    "    return (df/(2.0*h))"
   ]
  },
  {
   "cell_type": "code",
   "execution_count": 8,
   "metadata": {},
   "outputs": [],
   "source": [
    "hs = [1.25e-5,2.5e-5,5.0e-5,1.0e-4]\n",
    "errors = [abs(cos(1.0)-centralized_difference(sin,1.0,hi)) for hi in hs]"
   ]
  },
  {
   "cell_type": "code",
   "execution_count": 9,
   "metadata": {},
   "outputs": [
    {
     "data": {
      "text/plain": [
       "Text(0.5, 1.0, 'Relative Error Scaling with $h$')"
      ]
     },
     "execution_count": 9,
     "metadata": {},
     "output_type": "execute_result"
    },
    {
     "data": {
      "image/png": "[encoded data removed]",
      "text/plain": [
       "<Figure size 432x288 with 1 Axes>"
      ]
     },
     "metadata": {
      "needs_background": "light"
     },
     "output_type": "display_data"
    }
   ],
   "source": [
    "em = errors[0]\n",
    "e_rel = [e/em for e in errors]\n",
    "plot(e_rel)\n",
    "xlabel('$\\log_2(h_{max}/h)$')\n",
    "ylabel('$E_{rel}$')\n",
    "title('Relative Error Scaling with $h$')"
   ]
  },
  {
   "cell_type": "markdown",
   "metadata": {},
   "source": [
    "From the plot above, we see that the function *centralized_difference()* does indeed obey the desired $h^2$ dependence. "
   ]
  },
  {
   "cell_type": "markdown",
   "metadata": {},
   "source": [
    "---\n",
    "### Part b - Richardson Extrapolation"
   ]
  },
  {
   "cell_type": "markdown",
   "metadata": {},
   "source": [
    "In order to perform the extrapolation to h=0, we want to fit a polynomial of order $N-1$, when we have taken $N$ different values of $h$. This gives us a system of linear equations for the coefficients.\n",
    "$$\n",
    "a_{n-1}h_{i}^{n-1} + a_{n-2}h_{i}^{n-2} + ... + a_1h_{i} + a_0 = c_{i}\n",
    "$$\n",
    "\n",
    "The $c_i$'s are the approximations given by the centralized difference formula. The system of equations can then be written as a matrix equation:\n",
    "$$ Va = C $$\n",
    "\n",
    "The matrix $V$, known as the Vandermode matrix contains powers of the different $h_i$'s chosen. As such, its rows and columns are linearly independent and thus V is not singular. The solution for the coefficients $a$ is then given by:\n",
    "$$ a = V^{-1}C $$\n",
    "$a_0$ then approximates the extrapolation to $h=0$."
   ]
  },
  {
   "cell_type": "code",
   "execution_count": 10,
   "metadata": {},
   "outputs": [],
   "source": [
    "def Richardson_Extrapolation(f,x,N):\n",
    "    assert N>1\n",
    "    h = 0.1\n",
    "    Hs = [h/(2.0**i) for i in range(N)]\n",
    "    approx = [centralized_difference(f,x,hi) for hi in Hs]\n",
    "    #now we fit the approximations of the derivative to the hs with an N-1 order polynomial\n",
    "    vander = [] #vandermode matrix\n",
    "    for hh in Hs:\n",
    "        v = [hh**i for i in range(N)]\n",
    "        vander.append(v)\n",
    "    extrapolates = np.dot(np.linalg.inv(vander),np.transpose(approx))\n",
    "    return extrapolates[0]"
   ]
  },
  {
   "cell_type": "code",
   "execution_count": 11,
   "metadata": {},
   "outputs": [
    {
     "data": {
      "text/plain": [
       "9.846015724956914e-08"
      ]
     },
     "execution_count": 11,
     "metadata": {},
     "output_type": "execute_result"
    }
   ],
   "source": [
    "abs(Richardson_Extrapolation(sin,1.0,3)-cos(1.0))"
   ]
  },
  {
   "cell_type": "code",
   "execution_count": 12,
   "metadata": {},
   "outputs": [
    {
     "data": {
      "text/plain": [
       "7.031129234391642e-09"
      ]
     },
     "execution_count": 12,
     "metadata": {},
     "output_type": "execute_result"
    }
   ],
   "source": [
    "abs(Richardson_Extrapolation(sin,1.0,4)-cos(1.0))"
   ]
  },
  {
   "cell_type": "code",
   "execution_count": 13,
   "metadata": {},
   "outputs": [
    {
     "data": {
      "text/plain": [
       "2.4713564528155985e-13"
      ]
     },
     "execution_count": 13,
     "metadata": {},
     "output_type": "execute_result"
    }
   ],
   "source": [
    "abs(Richardson_Extrapolation(sin,1.0,5)-cos(1.0))"
   ]
  },
  {
   "cell_type": "markdown",
   "metadata": {},
   "source": [
    "---\n",
    "### Part c - Adaptive Extrapolation"
   ]
  },
  {
   "cell_type": "code",
   "execution_count": 14,
   "metadata": {},
   "outputs": [],
   "source": [
    "def Richardson_Extrapolation_Adaptive(f,x,rtol=1.0e-12):\n",
    "    Nmax = 10\n",
    "    N = 2\n",
    "    a0 = centralized_difference(f,x,0.05)\n",
    "    a1 = Richardson_Extrapolation(f,x,N)\n",
    "    while abs(a0-a1) >= rtol:\n",
    "        N += 1\n",
    "        if N > Nmax:\n",
    "            print(\"Error: Desired Cenvergence Could Not Be Reached!\")\n",
    "            return a0\n",
    "        else:\n",
    "            a0 = a1\n",
    "            a1 = Richardson_Extrapolation(f,x,N)\n",
    "    return a0"
   ]
  },
  {
   "cell_type": "code",
   "execution_count": 15,
   "metadata": {},
   "outputs": [
    {
     "data": {
      "text/plain": [
       "2.4713564528155985e-13"
      ]
     },
     "execution_count": 15,
     "metadata": {},
     "output_type": "execute_result"
    }
   ],
   "source": [
    "abs(Richardson_Extrapolation_Adaptive(sin,1.0,1.0e-12)-cos(1.0))"
   ]
  },
  {
   "cell_type": "markdown",
   "metadata": {},
   "source": [
    "So we see that the function *Richardson_Extrapolation_Adaptive* approximates the derivative of interest in the above case to part in $10^{-13}$ by dynamically picking how many step sizes to take."
   ]
  },
  {
   "cell_type": "code",
   "execution_count": null,
   "metadata": {},
   "outputs": [],
   "source": []
  }
 ],
 "metadata": {
  "kernelspec": {
   "display_name": "Python 3",
   "language": "python",
   "name": "python3"
  },
  "language_info": {
   "codemirror_mode": {
    "name": "ipython",
    "version": 3
   },
   "file_extension": ".py",
   "mimetype": "text/x-python",
   "name": "python",
   "nbconvert_exporter": "python",
   "pygments_lexer": "ipython3",
   "version": "3.7.1"
  }
 },
 "nbformat": 4,
 "nbformat_minor": 2
}
